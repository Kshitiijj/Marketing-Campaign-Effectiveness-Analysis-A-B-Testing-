{
 "cells": [
  {
   "cell_type": "code",
   "execution_count": 38,
   "id": "653f81b4-f34a-4cb7-ab2f-2fa7b26645a0",
   "metadata": {},
   "outputs": [
    {
     "name": "stdout",
     "output_type": "stream",
     "text": [
      "Groups in dataset: ['ad' 'psa']\n",
      "Sample:\n",
      "    user id group  converted  total ads most ads day  most ads hour\n",
      "0  1069124    ad      False        130       Monday             20\n",
      "1  1119715    ad      False         93      Tuesday             22\n",
      "2  1144181    ad      False         21      Tuesday             18\n",
      "3  1435133    ad      False        355      Tuesday             10\n",
      "4  1015700    ad      False        276       Friday             14\n"
     ]
    }
   ],
   "source": [
    "import pandas as pd\n",
    "from statsmodels.stats.proportion import proportions_ztest\n",
    "\n",
    "import warnings\n",
    "warnings.filterwarnings(\"ignore\")\n",
    "\n",
    "\n",
    "# Load CSV\n",
    "df = pd.read_csv(\"marketing_AB.csv\")\n",
    "\n",
    "# Optional: Drop index column\n",
    "df.drop(columns=['Unnamed: 0'], inplace=True)\n",
    "\n",
    "# Clean column names (strip spaces)\n",
    "df.columns = df.columns.str.strip()\n",
    "\n",
    "# Rename 'test group' to 'group' for convenience\n",
    "df.rename(columns={'test group': 'group'}, inplace=True)\n",
    "\n",
    "# Check for unique groups\n",
    "print(\"Groups in dataset:\", df['group'].unique())\n",
    "print(\"Sample:\\n\", df.head())\n"
   ]
  },
  {
   "cell_type": "code",
   "execution_count": null,
   "id": "9b89546a-16f4-4eae-a051-13420356eae7",
   "metadata": {},
   "outputs": [],
   "source": []
  },
  {
   "cell_type": "code",
   "execution_count": 41,
   "id": "38850ead-aa52-482b-a816-0f4ba5f5a0e1",
   "metadata": {},
   "outputs": [
    {
     "name": "stdout",
     "output_type": "stream",
     "text": [
      "\n",
      "Conversion Rate:\n",
      " group\n",
      "ad     0.025547\n",
      "psa    0.017854\n",
      "Name: converted, dtype: float64\n"
     ]
    }
   ],
   "source": [
    "# Conversion rate by group\n",
    "conversion_rate = df.groupby('group')['converted'].mean()\n",
    "print(\"\\nConversion Rate:\\n\", conversion_rate)\n"
   ]
  },
  {
   "cell_type": "code",
   "execution_count": null,
   "id": "b109df2f-6236-4713-9cdd-613ee4ccd4bd",
   "metadata": {},
   "outputs": [],
   "source": [
    "\n",
    "\n"
   ]
  },
  {
   "cell_type": "code",
   "execution_count": 44,
   "id": "8852e156-2650-49d0-a4c4-fe2c6140335f",
   "metadata": {},
   "outputs": [],
   "source": [
    "#Performing A/B Hypothesis Test"
   ]
  },
  {
   "cell_type": "code",
   "execution_count": 46,
   "id": "bde68d6c-c52f-456a-a67b-8ff6a1f50a91",
   "metadata": {},
   "outputs": [
    {
     "name": "stdout",
     "output_type": "stream",
     "text": [
      "\n",
      "Z-Statistic: nan\n",
      "P-Value: nan\n"
     ]
    }
   ],
   "source": [
    "# Counts for each group\n",
    "control_converted = df[df['group'] == 'control']['converted'].sum()\n",
    "control_total = df[df['group'] == 'control']['converted'].count()\n",
    "\n",
    "treatment_converted = df[df['group'] == 'treatment']['converted'].sum()\n",
    "treatment_total = df[df['group'] == 'treatment']['converted'].count()\n",
    "\n",
    "# Z-test\n",
    "z_stat, p_val = proportions_ztest(\n",
    "    [treatment_converted, control_converted],\n",
    "    [treatment_total, control_total]\n",
    ")\n",
    "\n",
    "print(f\"\\nZ-Statistic: {z_stat:.3f}\")\n",
    "print(f\"P-Value: {p_val:.4f}\")\n"
   ]
  },
  {
   "cell_type": "code",
   "execution_count": null,
   "id": "b3c8c070-d13c-4b81-8f0f-c6cebdff2586",
   "metadata": {},
   "outputs": [],
   "source": []
  },
  {
   "cell_type": "code",
   "execution_count": 49,
   "id": "c2021d6e-0cd7-41a6-87bd-4f0ac3afd04a",
   "metadata": {},
   "outputs": [],
   "source": [
    "#Exporting as Cleaned CSV"
   ]
  },
  {
   "cell_type": "code",
   "execution_count": 51,
   "id": "3e41a715-d1c1-40aa-8543-c25aa7a63ffd",
   "metadata": {},
   "outputs": [],
   "source": [
    "df.to_csv(\"campaign_analysis_cleaned.csv\", index=False)"
   ]
  },
  {
   "cell_type": "code",
   "execution_count": null,
   "id": "ba83c00d-153d-4d44-8612-27d2ebf8449d",
   "metadata": {},
   "outputs": [],
   "source": []
  }
 ],
 "metadata": {
  "kernelspec": {
   "display_name": "Python 3 (ipykernel)",
   "language": "python",
   "name": "python3"
  },
  "language_info": {
   "codemirror_mode": {
    "name": "ipython",
    "version": 3
   },
   "file_extension": ".py",
   "mimetype": "text/x-python",
   "name": "python",
   "nbconvert_exporter": "python",
   "pygments_lexer": "ipython3",
   "version": "3.12.7"
  }
 },
 "nbformat": 4,
 "nbformat_minor": 5
}
